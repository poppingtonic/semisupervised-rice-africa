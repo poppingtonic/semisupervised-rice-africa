{
 "cells": [
  {
   "cell_type": "code",
   "execution_count": 1,
   "id": "af314648-a549-4bfe-a966-bad63b5b9f13",
   "metadata": {},
   "outputs": [],
   "source": [
    "WANDB=True"
   ]
  },
  {
   "cell_type": "code",
   "execution_count": 2,
   "id": "c767e163-9c17-46fd-bc0a-3fc6b7376d1a",
   "metadata": {},
   "outputs": [],
   "source": [
    "%reload_ext autoreload\n",
    "%autoreload 2\n",
    "%matplotlib inline"
   ]
  },
  {
   "cell_type": "code",
   "execution_count": 3,
   "id": "e08d4240-78bd-4a5c-b3ed-2dca0122786e",
   "metadata": {},
   "outputs": [],
   "source": [
    "import wandb\n",
    "from fastai.vision.all import *\n",
    "from self_supervised.augmentations import *\n",
    "from self_supervised.layers import *\n",
    "from self_supervised.vision.swav import *\n",
    "from fastai.callback.wandb import WandbCallback\n",
    "import random\n",
    "\n",
    "from sklearn.model_selection import StratifiedKFold\n",
    "from sklearn.utils import shuffle"
   ]
  },
  {
   "cell_type": "code",
   "execution_count": 4,
   "id": "08aebf5b-07c1-4d7a-832a-7a4e6d828364",
   "metadata": {},
   "outputs": [],
   "source": [
    "path = Path(\"/home/mu/.fastai/data/rice-disease-classification/\")\n",
    "image_path = path/\"images\"\n",
    "files = get_image_files(image_path)"
   ]
  },
  {
   "cell_type": "code",
   "execution_count": 5,
   "id": "8644f4ed-ee58-409b-9787-c049aa62ecaa",
   "metadata": {},
   "outputs": [],
   "source": [
    "train_df = pd.read_csv(path/\"Train.csv\")\n",
    "test_df = pd.read_csv(path/\"Test.csv\")\n",
    "sample_df = pd.read_csv(path/\"SampleSubmission.csv\")"
   ]
  },
  {
   "cell_type": "code",
   "execution_count": 6,
   "id": "056a75c6-cf5c-4f5f-9cb6-e4e5d045dabd",
   "metadata": {},
   "outputs": [
    {
     "data": {
      "text/plain": [
       "array(['blast', 'brown', 'healthy'], dtype=object)"
      ]
     },
     "execution_count": 6,
     "metadata": {},
     "output_type": "execute_result"
    }
   ],
   "source": [
    "train_df.Label.unique()"
   ]
  },
  {
   "cell_type": "code",
   "execution_count": 7,
   "id": "bfedf6d8-169a-4090-99af-3e15c05f53de",
   "metadata": {},
   "outputs": [
    {
     "data": {
      "text/html": [
       "<div>\n",
       "<style scoped>\n",
       "    .dataframe tbody tr th:only-of-type {\n",
       "        vertical-align: middle;\n",
       "    }\n",
       "\n",
       "    .dataframe tbody tr th {\n",
       "        vertical-align: top;\n",
       "    }\n",
       "\n",
       "    .dataframe thead th {\n",
       "        text-align: right;\n",
       "    }\n",
       "</style>\n",
       "<table border=\"1\" class=\"dataframe\">\n",
       "  <thead>\n",
       "    <tr style=\"text-align: right;\">\n",
       "      <th></th>\n",
       "      <th>Image_id</th>\n",
       "    </tr>\n",
       "  </thead>\n",
       "  <tbody>\n",
       "    <tr>\n",
       "      <th>0</th>\n",
       "      <td>id_00vl5wvxq3.jpg</td>\n",
       "    </tr>\n",
       "    <tr>\n",
       "      <th>1</th>\n",
       "      <td>id_00vl5wvxq3_rgn.jpg</td>\n",
       "    </tr>\n",
       "    <tr>\n",
       "      <th>2</th>\n",
       "      <td>id_01hu05mtch.jpg</td>\n",
       "    </tr>\n",
       "    <tr>\n",
       "      <th>3</th>\n",
       "      <td>id_01hu05mtch_rgn.jpg</td>\n",
       "    </tr>\n",
       "    <tr>\n",
       "      <th>4</th>\n",
       "      <td>id_030ln10ewn.jpg</td>\n",
       "    </tr>\n",
       "  </tbody>\n",
       "</table>\n",
       "</div>"
      ],
      "text/plain": [
       "                Image_id\n",
       "0      id_00vl5wvxq3.jpg\n",
       "1  id_00vl5wvxq3_rgn.jpg\n",
       "2      id_01hu05mtch.jpg\n",
       "3  id_01hu05mtch_rgn.jpg\n",
       "4      id_030ln10ewn.jpg"
      ]
     },
     "execution_count": 7,
     "metadata": {},
     "output_type": "execute_result"
    }
   ],
   "source": [
    "test_df.head()"
   ]
  },
  {
   "cell_type": "code",
   "execution_count": 8,
   "id": "eeaddabf-1e01-4d55-8655-5802de2ef1a3",
   "metadata": {},
   "outputs": [
    {
     "data": {
      "text/html": [
       "<div>\n",
       "<style scoped>\n",
       "    .dataframe tbody tr th:only-of-type {\n",
       "        vertical-align: middle;\n",
       "    }\n",
       "\n",
       "    .dataframe tbody tr th {\n",
       "        vertical-align: top;\n",
       "    }\n",
       "\n",
       "    .dataframe thead th {\n",
       "        text-align: right;\n",
       "    }\n",
       "</style>\n",
       "<table border=\"1\" class=\"dataframe\">\n",
       "  <thead>\n",
       "    <tr style=\"text-align: right;\">\n",
       "      <th></th>\n",
       "      <th>Image_id</th>\n",
       "      <th>blast</th>\n",
       "      <th>brown</th>\n",
       "      <th>healthy</th>\n",
       "    </tr>\n",
       "  </thead>\n",
       "  <tbody>\n",
       "    <tr>\n",
       "      <th>0</th>\n",
       "      <td>id_00vl5wvxq3.jpg</td>\n",
       "      <td>0.0</td>\n",
       "      <td>0.0</td>\n",
       "      <td>0.0</td>\n",
       "    </tr>\n",
       "    <tr>\n",
       "      <th>1</th>\n",
       "      <td>id_01hu05mtch.jpg</td>\n",
       "      <td>0.0</td>\n",
       "      <td>0.0</td>\n",
       "      <td>0.0</td>\n",
       "    </tr>\n",
       "    <tr>\n",
       "      <th>2</th>\n",
       "      <td>id_030ln10ewn.jpg</td>\n",
       "      <td>0.0</td>\n",
       "      <td>0.0</td>\n",
       "      <td>0.0</td>\n",
       "    </tr>\n",
       "    <tr>\n",
       "      <th>3</th>\n",
       "      <td>id_03z57m8xht.jpg</td>\n",
       "      <td>0.0</td>\n",
       "      <td>0.0</td>\n",
       "      <td>0.0</td>\n",
       "    </tr>\n",
       "    <tr>\n",
       "      <th>4</th>\n",
       "      <td>id_04ngep1w4b.jpg</td>\n",
       "      <td>0.0</td>\n",
       "      <td>0.0</td>\n",
       "      <td>0.0</td>\n",
       "    </tr>\n",
       "  </tbody>\n",
       "</table>\n",
       "</div>"
      ],
      "text/plain": [
       "            Image_id  blast  brown  healthy\n",
       "0  id_00vl5wvxq3.jpg    0.0    0.0      0.0\n",
       "1  id_01hu05mtch.jpg    0.0    0.0      0.0\n",
       "2  id_030ln10ewn.jpg    0.0    0.0      0.0\n",
       "3  id_03z57m8xht.jpg    0.0    0.0      0.0\n",
       "4  id_04ngep1w4b.jpg    0.0    0.0      0.0"
      ]
     },
     "execution_count": 8,
     "metadata": {},
     "output_type": "execute_result"
    }
   ],
   "source": [
    "sample_df.head()"
   ]
  },
  {
   "cell_type": "code",
   "execution_count": 9,
   "id": "3a886102-6fbb-4dc2-a84e-fbd9946fe7ac",
   "metadata": {},
   "outputs": [],
   "source": [
    "size=224\n",
    "bs=128"
   ]
  },
  {
   "cell_type": "code",
   "execution_count": 10,
   "id": "3e7ecc31-71bd-4cc2-8a63-661e457b0b89",
   "metadata": {},
   "outputs": [],
   "source": [
    "clas_block = DataBlock(blocks=(ImageBlock, CategoryBlock),\n",
    "                       splitter=RandomSplitter(seed=42),\n",
    "                       get_x=ColReader(0, pref=image_path),\n",
    "                       get_y=ColReader(\"Label\"),\n",
    "                       item_tfms=Resize(size),\n",
    "                       batch_tfms=[*aug_transforms(), Normalize])"
   ]
  },
  {
   "cell_type": "code",
   "execution_count": 11,
   "id": "4befbfa5-1b15-44bc-98d2-a97888cb402a",
   "metadata": {},
   "outputs": [],
   "source": [
    "shuf_df = shuffle(train_df, random_state=42)\n",
    "dls = clas_block.dataloaders(shuf_df, bs=bs)"
   ]
  },
  {
   "cell_type": "code",
   "execution_count": 12,
   "id": "15103c87-5184-43f5-854e-1ba035739a36",
   "metadata": {},
   "outputs": [],
   "source": [
    "# dls.show_batch()"
   ]
  },
  {
   "cell_type": "code",
   "execution_count": 13,
   "id": "f06ec979-5105-4e2d-a991-c0179046fff4",
   "metadata": {},
   "outputs": [],
   "source": [
    "test_dl = dls.test_dl(test_df, bs=64)"
   ]
  },
  {
   "cell_type": "code",
   "execution_count": 14,
   "id": "22d7e642-13cc-4696-8d01-13285cd3124c",
   "metadata": {},
   "outputs": [
    {
     "data": {
      "text/plain": [
       "2290"
      ]
     },
     "execution_count": 14,
     "metadata": {},
     "output_type": "execute_result"
    }
   ],
   "source": [
    "test_dl.n"
   ]
  },
  {
   "cell_type": "code",
   "execution_count": 15,
   "id": "ad477973-6139-449c-8b4f-edd3375a405a",
   "metadata": {},
   "outputs": [
    {
     "data": {
      "text/plain": [
       "3"
      ]
     },
     "execution_count": 15,
     "metadata": {},
     "output_type": "execute_result"
    }
   ],
   "source": [
    "dls.c"
   ]
  },
  {
   "cell_type": "code",
   "execution_count": 16,
   "id": "504c69aa-e309-4124-a3ef-65a882d0a243",
   "metadata": {},
   "outputs": [
    {
     "data": {
      "text/plain": [
       "<fastai.data.core.DataLoaders at 0x7f8b7da8fa00>"
      ]
     },
     "execution_count": 16,
     "metadata": {},
     "output_type": "execute_result"
    }
   ],
   "source": [
    "dls.cuda()"
   ]
  },
  {
   "cell_type": "code",
   "execution_count": 17,
   "id": "f4ed02c8-22f8-4afc-95e0-83f5db0b81d0",
   "metadata": {
    "tags": []
   },
   "outputs": [],
   "source": [
    "# train_dl.show_batch()"
   ]
  },
  {
   "cell_type": "code",
   "execution_count": 18,
   "id": "2c74c2d0-8af5-41d7-8f0c-8293e6b5a980",
   "metadata": {},
   "outputs": [],
   "source": [
    "# %pdb"
   ]
  },
  {
   "cell_type": "code",
   "execution_count": 19,
   "id": "baee9d5d-65df-4a5b-88d8-e66cc93bce36",
   "metadata": {},
   "outputs": [],
   "source": [
    "optdict = dict(sqr_mom=0.99,mom=0.95,beta=0.,eps=1e-4)\n",
    "opt_func = partial(ranger, **optdict)"
   ]
  },
  {
   "cell_type": "code",
   "execution_count": 20,
   "id": "da865fb1-7e54-4a08-a403-81b0a2337da4",
   "metadata": {},
   "outputs": [],
   "source": [
    "arch = \"xresnet34\""
   ]
  },
  {
   "cell_type": "code",
   "execution_count": 21,
   "id": "3f6c91fb-dcd7-48d0-a712-80639d99520e",
   "metadata": {},
   "outputs": [],
   "source": [
    "swav_encoder = \"models/run-mwalimu-128-swav-xresnet34-pretrain-rice-disease-epc447-sz128px-bs32_encoder.pth\""
   ]
  },
  {
   "cell_type": "code",
   "execution_count": 22,
   "id": "825c2b01-e268-4590-b61b-2fefccac2cb1",
   "metadata": {},
   "outputs": [],
   "source": [
    "WANDB=False\n",
    "if WANDB:\n",
    "    xtra_config = {\"Arch\": arch, \"Resize\": size, \"Algorithm\": \"Pretrained SWAV\", \"Epochs\": 100, \"Size\": size, \"Pretrained\": True, \"Batch Size\": bs}\n",
    "    wandb.init(project=\"rice-disease-classification\", config=xtra_config);"
   ]
  },
  {
   "cell_type": "code",
   "execution_count": 23,
   "id": "4385ebaf-b79c-4b18-8079-0fe7150190c8",
   "metadata": {},
   "outputs": [],
   "source": [
    "def split_func(m): return L(m[0], m[1]).map(params)\n",
    "\n",
    "def create_learner(dls, arch='xresnet34', encoder_path=\"models/swav-pretrain-rice-disease-epc37_encoder.pth\"):\n",
    "    pretrained_encoder = torch.load(encoder_path)\n",
    "    encoder = create_encoder(arch, pretrained=False, n_in=3)\n",
    "    encoder.load_state_dict(pretrained_encoder)\n",
    "    nf = encoder(torch.randn(2,3,size,size)).size(-1) # size=128,size=224\n",
    "    classifier = create_cls_module(nf, dls.c, ps=0.5)\n",
    "    cbs = [SaveModelCallback(fname=f\"classifier-best-{arch}-sz{size}\"),\n",
    "           EarlyStoppingCallback(patience=100),\n",
    "           MixUp()]\n",
    "    if WANDB: cbs += [WandbCallback(log_preds=True,log_model=True)]\n",
    "    model = nn.Sequential(encoder, classifier)\n",
    "    learn = Learner(dls, model, opt_func=opt_func, splitter=split_func,\n",
    "                    metrics=[accuracy, F.cross_entropy], loss_func=LabelSmoothingCrossEntropy(),\n",
    "                    cbs=cbs)\n",
    "    return learn"
   ]
  },
  {
   "cell_type": "code",
   "execution_count": 24,
   "id": "59f05b7d-3f6b-4c3e-b7d1-3f452260d2e2",
   "metadata": {},
   "outputs": [],
   "source": [
    "learn = create_learner(dls, encoder_path=swav_encoder)"
   ]
  },
  {
   "cell_type": "code",
   "execution_count": 25,
   "id": "cbc1c994-2b3d-45b8-bee2-6efadaa8dcb2",
   "metadata": {},
   "outputs": [
    {
     "name": "stderr",
     "output_type": "stream",
     "text": [
      "/home/mu/miniconda3/envs/rave/lib/python3.9/site-packages/fastai/learner.py:59: UserWarning: Saved filed doesn't contain an optimizer state.\n",
      "  elif with_opt: warn(\"Saved filed doesn't contain an optimizer state.\")\n"
     ]
    },
    {
     "data": {
      "text/plain": [
       "<fastai.learner.Learner at 0x7f8b7da1f5e0>"
      ]
     },
     "execution_count": 25,
     "metadata": {},
     "output_type": "execute_result"
    }
   ],
   "source": [
    "# rice-disease-classification-africa/models/classifier-comic-firebrand-3-xresnet34-swav-pretrain-rice-disease-epc127-sz128px-bs256.pth\n",
    "learn.load(\"rice-disease-classifier-best-xresnet34-epc187-sz224\")"
   ]
  },
  {
   "cell_type": "code",
   "execution_count": 27,
   "id": "efffd9fb-39c6-4fcd-ab18-a2bd3bb005d0",
   "metadata": {},
   "outputs": [
    {
     "data": {
      "text/plain": [
       "<fastai.learner.Learner at 0x7f8b7da1f5e0>"
      ]
     },
     "execution_count": 27,
     "metadata": {},
     "output_type": "execute_result"
    }
   ],
   "source": [
    "learn.to_fp16()"
   ]
  },
  {
   "cell_type": "code",
   "execution_count": null,
   "id": "330c9cb3-b63d-4d80-a5ca-d83e3e9d789d",
   "metadata": {},
   "outputs": [
    {
     "data": {
      "text/html": [
       "\n",
       "<style>\n",
       "    /* Turns off some styling */\n",
       "    progress {\n",
       "        /* gets rid of default border in Firefox and Opera. */\n",
       "        border: none;\n",
       "        /* Needs to be in here for Safari polyfill so background images work as expected. */\n",
       "        background-size: auto;\n",
       "    }\n",
       "    .progress-bar-interrupted, .progress-bar-interrupted::-webkit-progress-bar {\n",
       "        background: #F44336;\n",
       "    }\n",
       "</style>\n"
      ],
      "text/plain": [
       "<IPython.core.display.HTML object>"
      ]
     },
     "metadata": {},
     "output_type": "display_data"
    },
    {
     "data": {
      "text/html": [
       "\n",
       "    <div>\n",
       "      <progress value='1' class='' max='4' style='width:300px; height:20px; vertical-align: middle;'></progress>\n",
       "      25.00% [1/4 00:32<01:38]\n",
       "    </div>\n",
       "    \n",
       "\n",
       "\n",
       "    <div>\n",
       "      <progress value='4' class='' max='33' style='width:300px; height:20px; vertical-align: middle;'></progress>\n",
       "      12.12% [4/33 00:16<01:58 0.5060]\n",
       "    </div>\n",
       "    "
      ],
      "text/plain": [
       "<IPython.core.display.HTML object>"
      ]
     },
     "metadata": {},
     "output_type": "display_data"
    }
   ],
   "source": [
    "learn.lr_find()"
   ]
  },
  {
   "cell_type": "code",
   "execution_count": null,
   "id": "98cfde61-9b5b-4718-984f-5ea6e8218bb0",
   "metadata": {
    "tags": []
   },
   "outputs": [
    {
     "data": {
      "text/html": [
       "\n",
       "<style>\n",
       "    /* Turns off some styling */\n",
       "    progress {\n",
       "        /* gets rid of default border in Firefox and Opera. */\n",
       "        border: none;\n",
       "        /* Needs to be in here for Safari polyfill so background images work as expected. */\n",
       "        background-size: auto;\n",
       "    }\n",
       "    .progress-bar-interrupted, .progress-bar-interrupted::-webkit-progress-bar {\n",
       "        background: #F44336;\n",
       "    }\n",
       "</style>\n"
      ],
      "text/plain": [
       "<IPython.core.display.HTML object>"
      ]
     },
     "metadata": {},
     "output_type": "display_data"
    },
    {
     "data": {
      "text/html": [
       "\n",
       "    <div>\n",
       "      <progress value='31' class='' max='600' style='width:300px; height:20px; vertical-align: middle;'></progress>\n",
       "      5.17% [31/600 20:59<6:25:12]\n",
       "    </div>\n",
       "    \n",
       "<table border=\"1\" class=\"dataframe\">\n",
       "  <thead>\n",
       "    <tr style=\"text-align: left;\">\n",
       "      <th>epoch</th>\n",
       "      <th>train_loss</th>\n",
       "      <th>valid_loss</th>\n",
       "      <th>accuracy</th>\n",
       "      <th>cross_entropy</th>\n",
       "      <th>time</th>\n",
       "    </tr>\n",
       "  </thead>\n",
       "  <tbody>\n",
       "    <tr>\n",
       "      <td>0</td>\n",
       "      <td>0.511475</td>\n",
       "      <td>0.523205</td>\n",
       "      <td>0.876405</td>\n",
       "      <td>0.348689</td>\n",
       "      <td>00:41</td>\n",
       "    </tr>\n",
       "    <tr>\n",
       "      <td>1</td>\n",
       "      <td>0.507988</td>\n",
       "      <td>0.518790</td>\n",
       "      <td>0.882959</td>\n",
       "      <td>0.344424</td>\n",
       "      <td>00:40</td>\n",
       "    </tr>\n",
       "    <tr>\n",
       "      <td>2</td>\n",
       "      <td>0.509016</td>\n",
       "      <td>0.521682</td>\n",
       "      <td>0.881086</td>\n",
       "      <td>0.345753</td>\n",
       "      <td>00:40</td>\n",
       "    </tr>\n",
       "    <tr>\n",
       "      <td>3</td>\n",
       "      <td>0.503990</td>\n",
       "      <td>0.520640</td>\n",
       "      <td>0.880150</td>\n",
       "      <td>0.346734</td>\n",
       "      <td>00:41</td>\n",
       "    </tr>\n",
       "    <tr>\n",
       "      <td>4</td>\n",
       "      <td>0.504275</td>\n",
       "      <td>0.521165</td>\n",
       "      <td>0.878277</td>\n",
       "      <td>0.346501</td>\n",
       "      <td>00:41</td>\n",
       "    </tr>\n",
       "    <tr>\n",
       "      <td>5</td>\n",
       "      <td>0.506875</td>\n",
       "      <td>0.519080</td>\n",
       "      <td>0.881086</td>\n",
       "      <td>0.344741</td>\n",
       "      <td>00:40</td>\n",
       "    </tr>\n",
       "    <tr>\n",
       "      <td>6</td>\n",
       "      <td>0.505144</td>\n",
       "      <td>0.521177</td>\n",
       "      <td>0.879214</td>\n",
       "      <td>0.346490</td>\n",
       "      <td>00:40</td>\n",
       "    </tr>\n",
       "    <tr>\n",
       "      <td>7</td>\n",
       "      <td>0.504783</td>\n",
       "      <td>0.520491</td>\n",
       "      <td>0.882023</td>\n",
       "      <td>0.345954</td>\n",
       "      <td>00:41</td>\n",
       "    </tr>\n",
       "    <tr>\n",
       "      <td>8</td>\n",
       "      <td>0.504168</td>\n",
       "      <td>0.521771</td>\n",
       "      <td>0.879214</td>\n",
       "      <td>0.347198</td>\n",
       "      <td>00:40</td>\n",
       "    </tr>\n",
       "    <tr>\n",
       "      <td>9</td>\n",
       "      <td>0.503388</td>\n",
       "      <td>0.516471</td>\n",
       "      <td>0.885768</td>\n",
       "      <td>0.341450</td>\n",
       "      <td>00:40</td>\n",
       "    </tr>\n",
       "    <tr>\n",
       "      <td>10</td>\n",
       "      <td>0.503421</td>\n",
       "      <td>0.516370</td>\n",
       "      <td>0.883895</td>\n",
       "      <td>0.341783</td>\n",
       "      <td>00:40</td>\n",
       "    </tr>\n",
       "    <tr>\n",
       "      <td>11</td>\n",
       "      <td>0.507944</td>\n",
       "      <td>0.515589</td>\n",
       "      <td>0.884831</td>\n",
       "      <td>0.342454</td>\n",
       "      <td>00:41</td>\n",
       "    </tr>\n",
       "    <tr>\n",
       "      <td>12</td>\n",
       "      <td>0.508407</td>\n",
       "      <td>0.520307</td>\n",
       "      <td>0.881086</td>\n",
       "      <td>0.345810</td>\n",
       "      <td>00:40</td>\n",
       "    </tr>\n",
       "    <tr>\n",
       "      <td>13</td>\n",
       "      <td>0.503606</td>\n",
       "      <td>0.520434</td>\n",
       "      <td>0.881086</td>\n",
       "      <td>0.345634</td>\n",
       "      <td>00:40</td>\n",
       "    </tr>\n",
       "    <tr>\n",
       "      <td>14</td>\n",
       "      <td>0.505565</td>\n",
       "      <td>0.524938</td>\n",
       "      <td>0.877341</td>\n",
       "      <td>0.349514</td>\n",
       "      <td>00:41</td>\n",
       "    </tr>\n",
       "    <tr>\n",
       "      <td>15</td>\n",
       "      <td>0.502635</td>\n",
       "      <td>0.520392</td>\n",
       "      <td>0.879214</td>\n",
       "      <td>0.346384</td>\n",
       "      <td>00:41</td>\n",
       "    </tr>\n",
       "    <tr>\n",
       "      <td>16</td>\n",
       "      <td>0.503835</td>\n",
       "      <td>0.518775</td>\n",
       "      <td>0.879214</td>\n",
       "      <td>0.344510</td>\n",
       "      <td>00:41</td>\n",
       "    </tr>\n",
       "    <tr>\n",
       "      <td>17</td>\n",
       "      <td>0.507084</td>\n",
       "      <td>0.517863</td>\n",
       "      <td>0.882023</td>\n",
       "      <td>0.342102</td>\n",
       "      <td>00:39</td>\n",
       "    </tr>\n",
       "    <tr>\n",
       "      <td>18</td>\n",
       "      <td>0.506667</td>\n",
       "      <td>0.522113</td>\n",
       "      <td>0.880150</td>\n",
       "      <td>0.347571</td>\n",
       "      <td>00:40</td>\n",
       "    </tr>\n",
       "    <tr>\n",
       "      <td>19</td>\n",
       "      <td>0.507294</td>\n",
       "      <td>0.517913</td>\n",
       "      <td>0.886704</td>\n",
       "      <td>0.344662</td>\n",
       "      <td>00:40</td>\n",
       "    </tr>\n",
       "    <tr>\n",
       "      <td>20</td>\n",
       "      <td>0.507244</td>\n",
       "      <td>0.517942</td>\n",
       "      <td>0.884831</td>\n",
       "      <td>0.342995</td>\n",
       "      <td>00:40</td>\n",
       "    </tr>\n",
       "    <tr>\n",
       "      <td>21</td>\n",
       "      <td>0.506319</td>\n",
       "      <td>0.519757</td>\n",
       "      <td>0.882023</td>\n",
       "      <td>0.344614</td>\n",
       "      <td>00:39</td>\n",
       "    </tr>\n",
       "    <tr>\n",
       "      <td>22</td>\n",
       "      <td>0.506228</td>\n",
       "      <td>0.519994</td>\n",
       "      <td>0.882023</td>\n",
       "      <td>0.345673</td>\n",
       "      <td>00:39</td>\n",
       "    </tr>\n",
       "    <tr>\n",
       "      <td>23</td>\n",
       "      <td>0.506899</td>\n",
       "      <td>0.518713</td>\n",
       "      <td>0.880150</td>\n",
       "      <td>0.344453</td>\n",
       "      <td>00:39</td>\n",
       "    </tr>\n",
       "    <tr>\n",
       "      <td>24</td>\n",
       "      <td>0.506201</td>\n",
       "      <td>0.517617</td>\n",
       "      <td>0.882023</td>\n",
       "      <td>0.342850</td>\n",
       "      <td>00:39</td>\n",
       "    </tr>\n",
       "    <tr>\n",
       "      <td>25</td>\n",
       "      <td>0.504242</td>\n",
       "      <td>0.520035</td>\n",
       "      <td>0.881086</td>\n",
       "      <td>0.345550</td>\n",
       "      <td>00:39</td>\n",
       "    </tr>\n",
       "    <tr>\n",
       "      <td>26</td>\n",
       "      <td>0.504461</td>\n",
       "      <td>0.517671</td>\n",
       "      <td>0.882023</td>\n",
       "      <td>0.342784</td>\n",
       "      <td>00:40</td>\n",
       "    </tr>\n",
       "    <tr>\n",
       "      <td>27</td>\n",
       "      <td>0.502582</td>\n",
       "      <td>0.516379</td>\n",
       "      <td>0.884831</td>\n",
       "      <td>0.341434</td>\n",
       "      <td>00:40</td>\n",
       "    </tr>\n",
       "    <tr>\n",
       "      <td>28</td>\n",
       "      <td>0.503304</td>\n",
       "      <td>0.515586</td>\n",
       "      <td>0.881086</td>\n",
       "      <td>0.340877</td>\n",
       "      <td>00:39</td>\n",
       "    </tr>\n",
       "    <tr>\n",
       "      <td>29</td>\n",
       "      <td>0.506717</td>\n",
       "      <td>0.520871</td>\n",
       "      <td>0.874532</td>\n",
       "      <td>0.346078</td>\n",
       "      <td>00:40</td>\n",
       "    </tr>\n",
       "    <tr>\n",
       "      <td>30</td>\n",
       "      <td>0.506002</td>\n",
       "      <td>0.519357</td>\n",
       "      <td>0.878277</td>\n",
       "      <td>0.344177</td>\n",
       "      <td>00:42</td>\n",
       "    </tr>\n",
       "  </tbody>\n",
       "</table><p>\n",
       "\n",
       "    <div>\n",
       "      <progress value='0' class='' max='33' style='width:300px; height:20px; vertical-align: middle;'></progress>\n",
       "      0.00% [0/33 00:00<00:00]\n",
       "    </div>\n",
       "    "
      ],
      "text/plain": [
       "<IPython.core.display.HTML object>"
      ]
     },
     "metadata": {},
     "output_type": "display_data"
    },
    {
     "name": "stdout",
     "output_type": "stream",
     "text": [
      "Better model found at epoch 0 with valid_loss value: 0.5232045650482178.\n",
      "Better model found at epoch 1 with valid_loss value: 0.5187902450561523.\n",
      "Better model found at epoch 9 with valid_loss value: 0.5164709091186523.\n",
      "Better model found at epoch 10 with valid_loss value: 0.5163695812225342.\n",
      "Better model found at epoch 11 with valid_loss value: 0.5155891180038452.\n",
      "Better model found at epoch 28 with valid_loss value: 0.5155863165855408.\n"
     ]
    }
   ],
   "source": [
    "learn.fit_one_cycle(600, 1e-4, wd=1e-2, moms=(0.95, 0.85, 0.95))"
   ]
  },
  {
   "cell_type": "code",
   "execution_count": 28,
   "id": "b24ceeac-948f-4b3a-8e12-9312ebde9185",
   "metadata": {
    "tags": []
   },
   "outputs": [],
   "source": [
    "# learn.fit_one_cycle(800, 1e-3, wd=1e-2, moms=(0.95, 0.85, 0.95))"
   ]
  },
  {
   "cell_type": "code",
   "execution_count": 29,
   "id": "0ddc921c-eaa7-4a55-98d2-c286ef8c0afe",
   "metadata": {
    "tags": []
   },
   "outputs": [],
   "source": [
    "# learn.recorder.plot_loss()"
   ]
  },
  {
   "cell_type": "code",
   "execution_count": 28,
   "id": "5aba5923-9dd7-4fde-9bf9-bf6a38da224b",
   "metadata": {},
   "outputs": [],
   "source": [
    "item_tfms = [ToTensor(), RandomResizedCrop(size, min_scale=0.75, ratio=(1.,1.))]\n",
    "batch_tfms = [IntToFloatTensor(), *aug_transforms(size=int(size*0.6), max_warp=0), Normalize.from_stats(*imagenet_stats)]"
   ]
  },
  {
   "cell_type": "code",
   "execution_count": 29,
   "id": "2419827b-7852-4d2a-bc39-8c5039124a9f",
   "metadata": {},
   "outputs": [
    {
     "data": {
      "text/html": [
       "\n",
       "<style>\n",
       "    /* Turns off some styling */\n",
       "    progress {\n",
       "        /* gets rid of default border in Firefox and Opera. */\n",
       "        border: none;\n",
       "        /* Needs to be in here for Safari polyfill so background images work as expected. */\n",
       "        background-size: auto;\n",
       "    }\n",
       "    .progress-bar-interrupted, .progress-bar-interrupted::-webkit-progress-bar {\n",
       "        background: #F44336;\n",
       "    }\n",
       "</style>\n"
      ],
      "text/plain": [
       "<IPython.core.display.HTML object>"
      ]
     },
     "metadata": {},
     "output_type": "display_data"
    },
    {
     "data": {
      "text/html": [
       "\n",
       "    <div>\n",
       "      <progress value='0' class='' max='1' style='width:300px; height:20px; vertical-align: middle;'></progress>\n",
       "      \n",
       "    </div>\n",
       "    \n"
      ],
      "text/plain": [
       "<IPython.core.display.HTML object>"
      ]
     },
     "metadata": {},
     "output_type": "display_data"
    },
    {
     "data": {
      "text/html": [
       "\n",
       "<style>\n",
       "    /* Turns off some styling */\n",
       "    progress {\n",
       "        /* gets rid of default border in Firefox and Opera. */\n",
       "        border: none;\n",
       "        /* Needs to be in here for Safari polyfill so background images work as expected. */\n",
       "        background-size: auto;\n",
       "    }\n",
       "    .progress-bar-interrupted, .progress-bar-interrupted::-webkit-progress-bar {\n",
       "        background: #F44336;\n",
       "    }\n",
       "</style>\n"
      ],
      "text/plain": [
       "<IPython.core.display.HTML object>"
      ]
     },
     "metadata": {},
     "output_type": "display_data"
    },
    {
     "data": {
      "text/html": [],
      "text/plain": [
       "<IPython.core.display.HTML object>"
      ]
     },
     "metadata": {},
     "output_type": "display_data"
    }
   ],
   "source": [
    "preds, targs = learn.tta(dl=test_dl, item_tfms=item_tfms, batch_tfms=batch_tfms)"
   ]
  },
  {
   "cell_type": "code",
   "execution_count": 30,
   "id": "83074ce7-5d96-4444-9a27-616b1ae0b3c9",
   "metadata": {},
   "outputs": [],
   "source": [
    "learn.export()"
   ]
  },
  {
   "cell_type": "code",
   "execution_count": 31,
   "id": "ff75b592-6d1c-495a-a331-a299d7be8bbd",
   "metadata": {},
   "outputs": [
    {
     "data": {
      "text/html": [
       "<div>\n",
       "<style scoped>\n",
       "    .dataframe tbody tr th:only-of-type {\n",
       "        vertical-align: middle;\n",
       "    }\n",
       "\n",
       "    .dataframe tbody tr th {\n",
       "        vertical-align: top;\n",
       "    }\n",
       "\n",
       "    .dataframe thead th {\n",
       "        text-align: right;\n",
       "    }\n",
       "</style>\n",
       "<table border=\"1\" class=\"dataframe\">\n",
       "  <thead>\n",
       "    <tr style=\"text-align: right;\">\n",
       "      <th></th>\n",
       "      <th>Image_id</th>\n",
       "      <th>blast</th>\n",
       "      <th>brown</th>\n",
       "      <th>healthy</th>\n",
       "    </tr>\n",
       "  </thead>\n",
       "  <tbody>\n",
       "    <tr>\n",
       "      <th>0</th>\n",
       "      <td>id_00vl5wvxq3.jpg</td>\n",
       "      <td>0.0</td>\n",
       "      <td>0.0</td>\n",
       "      <td>0.0</td>\n",
       "    </tr>\n",
       "    <tr>\n",
       "      <th>1</th>\n",
       "      <td>id_01hu05mtch.jpg</td>\n",
       "      <td>0.0</td>\n",
       "      <td>0.0</td>\n",
       "      <td>0.0</td>\n",
       "    </tr>\n",
       "    <tr>\n",
       "      <th>2</th>\n",
       "      <td>id_030ln10ewn.jpg</td>\n",
       "      <td>0.0</td>\n",
       "      <td>0.0</td>\n",
       "      <td>0.0</td>\n",
       "    </tr>\n",
       "    <tr>\n",
       "      <th>3</th>\n",
       "      <td>id_03z57m8xht.jpg</td>\n",
       "      <td>0.0</td>\n",
       "      <td>0.0</td>\n",
       "      <td>0.0</td>\n",
       "    </tr>\n",
       "    <tr>\n",
       "      <th>4</th>\n",
       "      <td>id_04ngep1w4b.jpg</td>\n",
       "      <td>0.0</td>\n",
       "      <td>0.0</td>\n",
       "      <td>0.0</td>\n",
       "    </tr>\n",
       "  </tbody>\n",
       "</table>\n",
       "</div>"
      ],
      "text/plain": [
       "            Image_id  blast  brown  healthy\n",
       "0  id_00vl5wvxq3.jpg    0.0    0.0      0.0\n",
       "1  id_01hu05mtch.jpg    0.0    0.0      0.0\n",
       "2  id_030ln10ewn.jpg    0.0    0.0      0.0\n",
       "3  id_03z57m8xht.jpg    0.0    0.0      0.0\n",
       "4  id_04ngep1w4b.jpg    0.0    0.0      0.0"
      ]
     },
     "execution_count": 31,
     "metadata": {},
     "output_type": "execute_result"
    }
   ],
   "source": [
    "sample_df.head()"
   ]
  },
  {
   "cell_type": "code",
   "execution_count": 36,
   "id": "924834d9-6457-4e21-9b9e-de9c7ccdba0c",
   "metadata": {},
   "outputs": [
    {
     "data": {
      "text/plain": [
       "Image_id    1145\n",
       "blast       1145\n",
       "brown       1145\n",
       "healthy     1145\n",
       "dtype: int64"
      ]
     },
     "execution_count": 36,
     "metadata": {},
     "output_type": "execute_result"
    }
   ],
   "source": [
    "sample_df.count()"
   ]
  },
  {
   "cell_type": "code",
   "execution_count": 37,
   "id": "d931329a-17da-489c-9a97-53b98db63cdd",
   "metadata": {},
   "outputs": [
    {
     "data": {
      "text/plain": [
       "Image_id    2290\n",
       "dtype: int64"
      ]
     },
     "execution_count": 37,
     "metadata": {},
     "output_type": "execute_result"
    }
   ],
   "source": [
    "test_df.count()"
   ]
  },
  {
   "cell_type": "code",
   "execution_count": 32,
   "id": "dc58346b-87c2-4e6d-b5fc-ac6346fcfd16",
   "metadata": {},
   "outputs": [
    {
     "data": {
      "text/plain": [
       "['blast', 'brown', 'healthy']"
      ]
     },
     "execution_count": 32,
     "metadata": {},
     "output_type": "execute_result"
    }
   ],
   "source": [
    "dls.vocab"
   ]
  },
  {
   "cell_type": "code",
   "execution_count": 33,
   "id": "bab65bf7-63c7-416a-95ca-08696d07df38",
   "metadata": {},
   "outputs": [
    {
     "data": {
      "text/plain": [
       "TensorBase([[0.9098, 0.0234, 0.0668],\n",
       "        [0.9679, 0.0125, 0.0196],\n",
       "        [0.1191, 0.8313, 0.0496],\n",
       "        ...,\n",
       "        [0.9696, 0.0127, 0.0177],\n",
       "        [0.8439, 0.0203, 0.1357],\n",
       "        [0.9324, 0.0342, 0.0334]])"
      ]
     },
     "execution_count": 33,
     "metadata": {},
     "output_type": "execute_result"
    }
   ],
   "source": [
    "preds"
   ]
  },
  {
   "cell_type": "code",
   "execution_count": 40,
   "id": "2846caa8-3dd9-40b7-8296-b3abebe07a9d",
   "metadata": {},
   "outputs": [
    {
     "data": {
      "text/plain": [
       "TensorBase([0.9098, 0.0234, 0.0668])"
      ]
     },
     "execution_count": 40,
     "metadata": {},
     "output_type": "execute_result"
    }
   ],
   "source": [
    "preds[0]"
   ]
  },
  {
   "cell_type": "code",
   "execution_count": 38,
   "id": "b8546add-7e14-4f61-9d97-9881f26e3c47",
   "metadata": {},
   "outputs": [
    {
     "ename": "KeyError",
     "evalue": "'blast'",
     "output_type": "error",
     "traceback": [
      "\u001b[0;31m---------------------------------------------------------------------------\u001b[0m",
      "\u001b[0;31mKeyError\u001b[0m                                  Traceback (most recent call last)",
      "File \u001b[0;32m~/miniconda3/envs/rave/lib/python3.9/site-packages/pandas/core/indexes/base.py:3621\u001b[0m, in \u001b[0;36mIndex.get_loc\u001b[0;34m(self, key, method, tolerance)\u001b[0m\n\u001b[1;32m   3620\u001b[0m \u001b[38;5;28;01mtry\u001b[39;00m:\n\u001b[0;32m-> 3621\u001b[0m     \u001b[38;5;28;01mreturn\u001b[39;00m \u001b[38;5;28;43mself\u001b[39;49m\u001b[38;5;241;43m.\u001b[39;49m\u001b[43m_engine\u001b[49m\u001b[38;5;241;43m.\u001b[39;49m\u001b[43mget_loc\u001b[49m\u001b[43m(\u001b[49m\u001b[43mcasted_key\u001b[49m\u001b[43m)\u001b[49m\n\u001b[1;32m   3622\u001b[0m \u001b[38;5;28;01mexcept\u001b[39;00m \u001b[38;5;167;01mKeyError\u001b[39;00m \u001b[38;5;28;01mas\u001b[39;00m err:\n",
      "File \u001b[0;32m~/miniconda3/envs/rave/lib/python3.9/site-packages/pandas/_libs/index.pyx:136\u001b[0m, in \u001b[0;36mpandas._libs.index.IndexEngine.get_loc\u001b[0;34m()\u001b[0m\n",
      "File \u001b[0;32m~/miniconda3/envs/rave/lib/python3.9/site-packages/pandas/_libs/index.pyx:163\u001b[0m, in \u001b[0;36mpandas._libs.index.IndexEngine.get_loc\u001b[0;34m()\u001b[0m\n",
      "File \u001b[0;32mpandas/_libs/hashtable_class_helper.pxi:5198\u001b[0m, in \u001b[0;36mpandas._libs.hashtable.PyObjectHashTable.get_item\u001b[0;34m()\u001b[0m\n",
      "File \u001b[0;32mpandas/_libs/hashtable_class_helper.pxi:5206\u001b[0m, in \u001b[0;36mpandas._libs.hashtable.PyObjectHashTable.get_item\u001b[0;34m()\u001b[0m\n",
      "\u001b[0;31mKeyError\u001b[0m: 'blast'",
      "\nThe above exception was the direct cause of the following exception:\n",
      "\u001b[0;31mKeyError\u001b[0m                                  Traceback (most recent call last)",
      "Input \u001b[0;32mIn [38]\u001b[0m, in \u001b[0;36m<cell line: 1>\u001b[0;34m()\u001b[0m\n\u001b[0;32m----> 1\u001b[0m \u001b[43mtest_df\u001b[49m\u001b[43m[\u001b[49m\u001b[38;5;124;43m'\u001b[39;49m\u001b[38;5;124;43mblast\u001b[39;49m\u001b[38;5;124;43m'\u001b[39;49m\u001b[43m]\u001b[49m\n",
      "File \u001b[0;32m~/miniconda3/envs/rave/lib/python3.9/site-packages/pandas/core/frame.py:3505\u001b[0m, in \u001b[0;36mDataFrame.__getitem__\u001b[0;34m(self, key)\u001b[0m\n\u001b[1;32m   3503\u001b[0m \u001b[38;5;28;01mif\u001b[39;00m \u001b[38;5;28mself\u001b[39m\u001b[38;5;241m.\u001b[39mcolumns\u001b[38;5;241m.\u001b[39mnlevels \u001b[38;5;241m>\u001b[39m \u001b[38;5;241m1\u001b[39m:\n\u001b[1;32m   3504\u001b[0m     \u001b[38;5;28;01mreturn\u001b[39;00m \u001b[38;5;28mself\u001b[39m\u001b[38;5;241m.\u001b[39m_getitem_multilevel(key)\n\u001b[0;32m-> 3505\u001b[0m indexer \u001b[38;5;241m=\u001b[39m \u001b[38;5;28;43mself\u001b[39;49m\u001b[38;5;241;43m.\u001b[39;49m\u001b[43mcolumns\u001b[49m\u001b[38;5;241;43m.\u001b[39;49m\u001b[43mget_loc\u001b[49m\u001b[43m(\u001b[49m\u001b[43mkey\u001b[49m\u001b[43m)\u001b[49m\n\u001b[1;32m   3506\u001b[0m \u001b[38;5;28;01mif\u001b[39;00m is_integer(indexer):\n\u001b[1;32m   3507\u001b[0m     indexer \u001b[38;5;241m=\u001b[39m [indexer]\n",
      "File \u001b[0;32m~/miniconda3/envs/rave/lib/python3.9/site-packages/pandas/core/indexes/base.py:3623\u001b[0m, in \u001b[0;36mIndex.get_loc\u001b[0;34m(self, key, method, tolerance)\u001b[0m\n\u001b[1;32m   3621\u001b[0m     \u001b[38;5;28;01mreturn\u001b[39;00m \u001b[38;5;28mself\u001b[39m\u001b[38;5;241m.\u001b[39m_engine\u001b[38;5;241m.\u001b[39mget_loc(casted_key)\n\u001b[1;32m   3622\u001b[0m \u001b[38;5;28;01mexcept\u001b[39;00m \u001b[38;5;167;01mKeyError\u001b[39;00m \u001b[38;5;28;01mas\u001b[39;00m err:\n\u001b[0;32m-> 3623\u001b[0m     \u001b[38;5;28;01mraise\u001b[39;00m \u001b[38;5;167;01mKeyError\u001b[39;00m(key) \u001b[38;5;28;01mfrom\u001b[39;00m \u001b[38;5;21;01merr\u001b[39;00m\n\u001b[1;32m   3624\u001b[0m \u001b[38;5;28;01mexcept\u001b[39;00m \u001b[38;5;167;01mTypeError\u001b[39;00m:\n\u001b[1;32m   3625\u001b[0m     \u001b[38;5;66;03m# If we have a listlike key, _check_indexing_error will raise\u001b[39;00m\n\u001b[1;32m   3626\u001b[0m     \u001b[38;5;66;03m#  InvalidIndexError. Otherwise we fall through and re-raise\u001b[39;00m\n\u001b[1;32m   3627\u001b[0m     \u001b[38;5;66;03m#  the TypeError.\u001b[39;00m\n\u001b[1;32m   3628\u001b[0m     \u001b[38;5;28mself\u001b[39m\u001b[38;5;241m.\u001b[39m_check_indexing_error(key)\n",
      "\u001b[0;31mKeyError\u001b[0m: 'blast'"
     ]
    }
   ],
   "source": [
    "test_df['blast'] = pd.series(preds[])"
   ]
  },
  {
   "cell_type": "code",
   "execution_count": 35,
   "id": "fd9b2df4-30d6-482a-9837-3d7ec5b9ac2b",
   "metadata": {},
   "outputs": [
    {
     "data": {
      "text/plain": [
       "Path('models/classifier-visionary-dew-7-xresnet34-swav-pretrain-rice-disease-epc187-sz224px-bs128.pth')"
      ]
     },
     "execution_count": 35,
     "metadata": {},
     "output_type": "execute_result"
    }
   ],
   "source": [
    "run_name = \"visionary-dew-7\" #wandb.run.name\n",
    "family = \"swav-pretrain\"\n",
    "epc=187\n",
    "save_name = f'classifier-{run_name}-{arch}-{family}-rice-disease-epc{epc}-sz{size}px-bs{bs}'\n",
    "learn.save(save_name)"
   ]
  },
  {
   "cell_type": "code",
   "execution_count": 30,
   "id": "9d6335cb-c810-4027-8f98-04af1f1d960d",
   "metadata": {},
   "outputs": [
    {
     "data": {
      "text/html": [
       "Waiting for W&B process to finish... <strong style=\"color:green\">(success).</strong>"
      ],
      "text/plain": [
       "<IPython.core.display.HTML object>"
      ]
     },
     "metadata": {},
     "output_type": "display_data"
    },
    {
     "data": {
      "application/vnd.jupyter.widget-view+json": {
       "model_id": "",
       "version_major": 2,
       "version_minor": 0
      },
      "text/plain": [
       "VBox(children=(Label(value='86.357 MB of 86.357 MB uploaded (0.000 MB deduped)\\r'), FloatProgress(value=1.0, m…"
      ]
     },
     "metadata": {},
     "output_type": "display_data"
    },
    {
     "data": {
      "text/html": [
       "<style>\n",
       "    table.wandb td:nth-child(1) { padding: 0 10px; text-align: left ; width: auto;} td:nth-child(2) {text-align: left ; width: 100%}\n",
       "    .wandb-row { display: flex; flex-direction: row; flex-wrap: wrap; justify-content: flex-start; width: 100% }\n",
       "    .wandb-col { display: flex; flex-direction: column; flex-basis: 100%; flex: 1; padding: 10px; }\n",
       "    </style>\n",
       "<div class=\"wandb-row\"><div class=\"wandb-col\"><h3>Run history:</h3><br/><table class=\"wandb\"><tr><td>accuracy</td><td>▁▁▂▃▅▅▄▅▇▅▇▅▆▆▆▇▇▅▅▅▅▅▅▇▆▆▇▇▆▆▇▆▇▆▆▆█▇▇▇</td></tr><tr><td>beta_0</td><td>▁▁▁▁▁▁▁▁▁▁▁▁▁▁▁▁▁▁▁▁▁▁▁▁▁▁▁▁▁▁▁▁▁▁▁▁▁▁▁▁</td></tr><tr><td>beta_1</td><td>▁▁▁▁▁▁▁▁▁▁▁▁▁▁▁▁▁▁▁▁▁▁▁▁▁▁▁▁▁▁▁▁▁▁▁▁▁▁▁▁</td></tr><tr><td>epoch</td><td>▁▁▁▂▂▂▂▂▂▃▃▃▃▃▄▄▄▄▄▄▅▅▅▅▅▅▆▆▆▆▆▇▇▇▇▇▇███</td></tr><tr><td>eps_0</td><td>▁▁▁▁▁▁▁▁▁▁▁▁▁▁▁▁▁▁▁▁▁▁▁▁▁▁▁▁▁▁▁▁▁▁▁▁▁▁▁▁</td></tr><tr><td>eps_1</td><td>▁▁▁▁▁▁▁▁▁▁▁▁▁▁▁▁▁▁▁▁▁▁▁▁▁▁▁▁▁▁▁▁▁▁▁▁▁▁▁▁</td></tr><tr><td>lr_0</td><td>▁▁▂▂▃▄▅▅▆▇▇████████▇▇▇▇▇▆▆▆▆▅▅▅▅▄▄▄▃▃▃▃▂</td></tr><tr><td>lr_1</td><td>▁▁▂▂▃▄▅▅▆▇▇████████▇▇▇▇▇▆▆▆▆▅▅▅▅▄▄▄▃▃▃▃▂</td></tr><tr><td>mom_0</td><td>██▇▇▆▅▄▄▃▂▂▁▁▁▁▁▁▁▁▁▂▂▂▂▂▃▃▃▃▄▄▄▅▅▅▅▆▆▆▆</td></tr><tr><td>mom_1</td><td>██▇▇▆▅▄▄▃▂▂▁▁▁▁▁▁▁▁▁▂▂▂▂▂▃▃▃▃▄▄▄▅▅▅▅▆▆▆▆</td></tr><tr><td>raw_loss</td><td>▆▆▇▄█▄▄▃▂▃▄▂▃▃▃▃▂▃▄▄▃▃▅▄▃▃▃▂▂▂▃▃▁▃▂▃▄▃▃▄</td></tr><tr><td>sqr_mom_0</td><td>▁▁▁▁▁▁▁▁▁▁▁▁▁▁▁▁▁▁▁▁▁▁▁▁▁▁▁▁▁▁▁▁▁▁▁▁▁▁▁▁</td></tr><tr><td>sqr_mom_1</td><td>▁▁▁▁▁▁▁▁▁▁▁▁▁▁▁▁▁▁▁▁▁▁▁▁▁▁▁▁▁▁▁▁▁▁▁▁▁▁▁▁</td></tr><tr><td>train_loss</td><td>█▆▅▄▄▃▃▃▂▂▂▂▂▂▂▂▂▂▂▂▂▂▁▂▂▂▂▂▁▂▂▁▁▂▁▂▁▁▁▁</td></tr><tr><td>train_samples_per_sec</td><td>███████▇█▇█▇▇▆█▇█▇▁█▇▇▇█▆█▇▇█████▇▇█▇██▇</td></tr><tr><td>valid_loss</td><td>█▇▅▄▃▂▃▃▂▂▂▃▃▂▂▂▂▂▄▃▃▄▄▂▂▃▁▁▂▂▁▂▁▂▂▂▃▂▂▂</td></tr><tr><td>wd_0</td><td>▁▁▁▁▁▁▁▁▁▁▁▁▁▁▁▁▁▁▁▁▁▁▁▁▁▁▁▁▁▁▁▁▁▁▁▁▁▁▁▁</td></tr><tr><td>wd_1</td><td>▁▁▁▁▁▁▁▁▁▁▁▁▁▁▁▁▁▁▁▁▁▁▁▁▁▁▁▁▁▁▁▁▁▁▁▁▁▁▁▁</td></tr></table><br/></div><div class=\"wandb-col\"><h3>Run summary:</h3><br/><table class=\"wandb\"><tr><td>accuracy</td><td>0.89045</td></tr><tr><td>beta_0</td><td>0.0</td></tr><tr><td>beta_1</td><td>0.0</td></tr><tr><td>epoch</td><td>614</td></tr><tr><td>eps_0</td><td>0.0001</td></tr><tr><td>eps_1</td><td>0.0001</td></tr><tr><td>lr_0</td><td>0.00022</td></tr><tr><td>lr_1</td><td>0.00022</td></tr><tr><td>mom_0</td><td>0.9281</td></tr><tr><td>mom_1</td><td>0.9281</td></tr><tr><td>raw_loss</td><td>0.5176</td></tr><tr><td>sqr_mom_0</td><td>0.99</td></tr><tr><td>sqr_mom_1</td><td>0.99</td></tr><tr><td>train_loss</td><td>0.49835</td></tr><tr><td>train_samples_per_sec</td><td>289.44404</td></tr><tr><td>valid_loss</td><td>0.53462</td></tr><tr><td>wd_0</td><td>0.01</td></tr><tr><td>wd_1</td><td>0.01</td></tr></table><br/></div></div>"
      ],
      "text/plain": [
       "<IPython.core.display.HTML object>"
      ]
     },
     "metadata": {},
     "output_type": "display_data"
    },
    {
     "data": {
      "text/html": [
       "Synced <strong style=\"color:#cdcd00\">visionary-dew-7</strong>: <a href=\"https://wandb.ai/nlug/rice-disease-classification/runs/z63pwgei\" target=\"_blank\">https://wandb.ai/nlug/rice-disease-classification/runs/z63pwgei</a><br/>Synced 6 W&B file(s), 1 media file(s), 38 artifact file(s) and 0 other file(s)"
      ],
      "text/plain": [
       "<IPython.core.display.HTML object>"
      ]
     },
     "metadata": {},
     "output_type": "display_data"
    },
    {
     "data": {
      "text/html": [
       "Find logs at: <code>./wandb/run-20220730_093212-z63pwgei/logs</code>"
      ],
      "text/plain": [
       "<IPython.core.display.HTML object>"
      ]
     },
     "metadata": {},
     "output_type": "display_data"
    }
   ],
   "source": [
    "if WANDB: wandb.finish()"
   ]
  },
  {
   "cell_type": "code",
   "execution_count": 31,
   "id": "3be71d67-bb86-4c70-842a-d2cc4f8af185",
   "metadata": {},
   "outputs": [
    {
     "data": {
      "text/plain": [
       "\u001b[0;31mSignature:\u001b[0m\n",
       "\u001b[0mlearn\u001b[0m\u001b[0;34m.\u001b[0m\u001b[0mtta\u001b[0m\u001b[0;34m(\u001b[0m\u001b[0;34m\u001b[0m\n",
       "\u001b[0;34m\u001b[0m    \u001b[0mds_idx\u001b[0m\u001b[0;34m=\u001b[0m\u001b[0;36m1\u001b[0m\u001b[0;34m,\u001b[0m\u001b[0;34m\u001b[0m\n",
       "\u001b[0;34m\u001b[0m    \u001b[0mdl\u001b[0m\u001b[0;34m=\u001b[0m\u001b[0;32mNone\u001b[0m\u001b[0;34m,\u001b[0m\u001b[0;34m\u001b[0m\n",
       "\u001b[0;34m\u001b[0m    \u001b[0mn\u001b[0m\u001b[0;34m=\u001b[0m\u001b[0;36m4\u001b[0m\u001b[0;34m,\u001b[0m\u001b[0;34m\u001b[0m\n",
       "\u001b[0;34m\u001b[0m    \u001b[0mitem_tfms\u001b[0m\u001b[0;34m=\u001b[0m\u001b[0;32mNone\u001b[0m\u001b[0;34m,\u001b[0m\u001b[0;34m\u001b[0m\n",
       "\u001b[0;34m\u001b[0m    \u001b[0mbatch_tfms\u001b[0m\u001b[0;34m=\u001b[0m\u001b[0;32mNone\u001b[0m\u001b[0;34m,\u001b[0m\u001b[0;34m\u001b[0m\n",
       "\u001b[0;34m\u001b[0m    \u001b[0mbeta\u001b[0m\u001b[0;34m=\u001b[0m\u001b[0;36m0.25\u001b[0m\u001b[0;34m,\u001b[0m\u001b[0;34m\u001b[0m\n",
       "\u001b[0;34m\u001b[0m    \u001b[0muse_max\u001b[0m\u001b[0;34m=\u001b[0m\u001b[0;32mFalse\u001b[0m\u001b[0;34m,\u001b[0m\u001b[0;34m\u001b[0m\n",
       "\u001b[0;34m\u001b[0m\u001b[0;34m)\u001b[0m\u001b[0;34m\u001b[0m\u001b[0;34m\u001b[0m\u001b[0m\n",
       "\u001b[0;31mDocstring:\u001b[0m Return predictions on the `ds_idx` dataset or `dl` using Test Time Augmentation\n",
       "\u001b[0;31mFile:\u001b[0m      ~/miniconda3/envs/rave/lib/python3.9/site-packages/fastai/learner.py\n",
       "\u001b[0;31mType:\u001b[0m      method\n"
      ]
     },
     "metadata": {},
     "output_type": "display_data"
    }
   ],
   "source": [
    "learn.tta?"
   ]
  },
  {
   "cell_type": "code",
   "execution_count": null,
   "id": "f307d90f-b988-4e02-8f0a-79853f744429",
   "metadata": {},
   "outputs": [],
   "source": [
    "def finetune(size, epochs, arch, encoder_path, lr=1e-2, wd=1e-2):\n",
    "    learn = create_learner(size, arch, swav_encoder)\n",
    "    learn.unfreeze()\n",
    "    learn.fit_flat_cos(epochs, lr, wd=wd)\n",
    "    final_acc = learn.recorder.values[-1][-2]\n",
    "    return final_acc"
   ]
  }
 ],
 "metadata": {
  "kernelspec": {
   "display_name": "Python 3 (ipykernel)",
   "language": "python",
   "name": "python3"
  },
  "language_info": {
   "codemirror_mode": {
    "name": "ipython",
    "version": 3
   },
   "file_extension": ".py",
   "mimetype": "text/x-python",
   "name": "python",
   "nbconvert_exporter": "python",
   "pygments_lexer": "ipython3",
   "version": "3.9.12"
  }
 },
 "nbformat": 4,
 "nbformat_minor": 5
}
