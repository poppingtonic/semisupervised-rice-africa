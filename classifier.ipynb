{
 "cells": [
  {
   "cell_type": "code",
   "execution_count": 1,
   "id": "af314648-a549-4bfe-a966-bad63b5b9f13",
   "metadata": {},
   "outputs": [],
   "source": [
    "WANDB=True"
   ]
  },
  {
   "cell_type": "code",
   "execution_count": 2,
   "id": "c767e163-9c17-46fd-bc0a-3fc6b7376d1a",
   "metadata": {},
   "outputs": [],
   "source": [
    "%reload_ext autoreload\n",
    "%autoreload 2\n",
    "%matplotlib inline"
   ]
  },
  {
   "cell_type": "code",
   "execution_count": 3,
   "id": "e08d4240-78bd-4a5c-b3ed-2dca0122786e",
   "metadata": {},
   "outputs": [],
   "source": [
    "import wandb\n",
    "from fastai.vision.all import *\n",
    "from self_supervised.augmentations import *\n",
    "from self_supervised.layers import *\n",
    "from self_supervised.vision.swav import *\n",
    "from fastai.callback.wandb import WandbCallback\n",
    "import random\n",
    "\n",
    "from sklearn.model_selection import StratifiedKFold"
   ]
  },
  {
   "cell_type": "code",
   "execution_count": 4,
   "id": "08aebf5b-07c1-4d7a-832a-7a4e6d828364",
   "metadata": {},
   "outputs": [],
   "source": [
    "path = Path(\"/home/mu/.fastai/data/rice-disease-classification/\")\n",
    "image_path = path/\"images\"\n",
    "files = get_image_files(image_path)"
   ]
  },
  {
   "cell_type": "code",
   "execution_count": 5,
   "id": "8644f4ed-ee58-409b-9787-c049aa62ecaa",
   "metadata": {},
   "outputs": [],
   "source": [
    "train_df = pd.read_csv(path/\"Train.csv\")\n",
    "test_df = pd.read_csv(path/\"Test.csv\")\n",
    "sample_df = pd.read_csv(path/\"SampleSubmission.csv\")"
   ]
  },
  {
   "cell_type": "code",
   "execution_count": 6,
   "id": "056a75c6-cf5c-4f5f-9cb6-e4e5d045dabd",
   "metadata": {},
   "outputs": [
    {
     "data": {
      "text/plain": [
       "array(['blast', 'brown', 'healthy'], dtype=object)"
      ]
     },
     "execution_count": 6,
     "metadata": {},
     "output_type": "execute_result"
    }
   ],
   "source": [
    "train_df.Label.unique()"
   ]
  },
  {
   "cell_type": "code",
   "execution_count": 7,
   "id": "bfedf6d8-169a-4090-99af-3e15c05f53de",
   "metadata": {},
   "outputs": [
    {
     "data": {
      "text/html": [
       "<div>\n",
       "<style scoped>\n",
       "    .dataframe tbody tr th:only-of-type {\n",
       "        vertical-align: middle;\n",
       "    }\n",
       "\n",
       "    .dataframe tbody tr th {\n",
       "        vertical-align: top;\n",
       "    }\n",
       "\n",
       "    .dataframe thead th {\n",
       "        text-align: right;\n",
       "    }\n",
       "</style>\n",
       "<table border=\"1\" class=\"dataframe\">\n",
       "  <thead>\n",
       "    <tr style=\"text-align: right;\">\n",
       "      <th></th>\n",
       "      <th>Image_id</th>\n",
       "    </tr>\n",
       "  </thead>\n",
       "  <tbody>\n",
       "    <tr>\n",
       "      <th>0</th>\n",
       "      <td>id_00vl5wvxq3.jpg</td>\n",
       "    </tr>\n",
       "    <tr>\n",
       "      <th>1</th>\n",
       "      <td>id_00vl5wvxq3_rgn.jpg</td>\n",
       "    </tr>\n",
       "    <tr>\n",
       "      <th>2</th>\n",
       "      <td>id_01hu05mtch.jpg</td>\n",
       "    </tr>\n",
       "    <tr>\n",
       "      <th>3</th>\n",
       "      <td>id_01hu05mtch_rgn.jpg</td>\n",
       "    </tr>\n",
       "    <tr>\n",
       "      <th>4</th>\n",
       "      <td>id_030ln10ewn.jpg</td>\n",
       "    </tr>\n",
       "  </tbody>\n",
       "</table>\n",
       "</div>"
      ],
      "text/plain": [
       "                Image_id\n",
       "0      id_00vl5wvxq3.jpg\n",
       "1  id_00vl5wvxq3_rgn.jpg\n",
       "2      id_01hu05mtch.jpg\n",
       "3  id_01hu05mtch_rgn.jpg\n",
       "4      id_030ln10ewn.jpg"
      ]
     },
     "execution_count": 7,
     "metadata": {},
     "output_type": "execute_result"
    }
   ],
   "source": [
    "test_df.head()"
   ]
  },
  {
   "cell_type": "code",
   "execution_count": 8,
   "id": "eeaddabf-1e01-4d55-8655-5802de2ef1a3",
   "metadata": {},
   "outputs": [
    {
     "data": {
      "text/html": [
       "<div>\n",
       "<style scoped>\n",
       "    .dataframe tbody tr th:only-of-type {\n",
       "        vertical-align: middle;\n",
       "    }\n",
       "\n",
       "    .dataframe tbody tr th {\n",
       "        vertical-align: top;\n",
       "    }\n",
       "\n",
       "    .dataframe thead th {\n",
       "        text-align: right;\n",
       "    }\n",
       "</style>\n",
       "<table border=\"1\" class=\"dataframe\">\n",
       "  <thead>\n",
       "    <tr style=\"text-align: right;\">\n",
       "      <th></th>\n",
       "      <th>Image_id</th>\n",
       "      <th>blast</th>\n",
       "      <th>brown</th>\n",
       "      <th>healthy</th>\n",
       "    </tr>\n",
       "  </thead>\n",
       "  <tbody>\n",
       "    <tr>\n",
       "      <th>0</th>\n",
       "      <td>id_00vl5wvxq3.jpg</td>\n",
       "      <td>0.0</td>\n",
       "      <td>0.0</td>\n",
       "      <td>0.0</td>\n",
       "    </tr>\n",
       "    <tr>\n",
       "      <th>1</th>\n",
       "      <td>id_01hu05mtch.jpg</td>\n",
       "      <td>0.0</td>\n",
       "      <td>0.0</td>\n",
       "      <td>0.0</td>\n",
       "    </tr>\n",
       "    <tr>\n",
       "      <th>2</th>\n",
       "      <td>id_030ln10ewn.jpg</td>\n",
       "      <td>0.0</td>\n",
       "      <td>0.0</td>\n",
       "      <td>0.0</td>\n",
       "    </tr>\n",
       "    <tr>\n",
       "      <th>3</th>\n",
       "      <td>id_03z57m8xht.jpg</td>\n",
       "      <td>0.0</td>\n",
       "      <td>0.0</td>\n",
       "      <td>0.0</td>\n",
       "    </tr>\n",
       "    <tr>\n",
       "      <th>4</th>\n",
       "      <td>id_04ngep1w4b.jpg</td>\n",
       "      <td>0.0</td>\n",
       "      <td>0.0</td>\n",
       "      <td>0.0</td>\n",
       "    </tr>\n",
       "  </tbody>\n",
       "</table>\n",
       "</div>"
      ],
      "text/plain": [
       "            Image_id  blast  brown  healthy\n",
       "0  id_00vl5wvxq3.jpg    0.0    0.0      0.0\n",
       "1  id_01hu05mtch.jpg    0.0    0.0      0.0\n",
       "2  id_030ln10ewn.jpg    0.0    0.0      0.0\n",
       "3  id_03z57m8xht.jpg    0.0    0.0      0.0\n",
       "4  id_04ngep1w4b.jpg    0.0    0.0      0.0"
      ]
     },
     "execution_count": 8,
     "metadata": {},
     "output_type": "execute_result"
    }
   ],
   "source": [
    "sample_df.head()"
   ]
  },
  {
   "cell_type": "code",
   "execution_count": 9,
   "id": "3a886102-6fbb-4dc2-a84e-fbd9946fe7ac",
   "metadata": {},
   "outputs": [],
   "source": [
    "size=128\n",
    "bs=64"
   ]
  },
  {
   "cell_type": "code",
   "execution_count": 10,
   "id": "849e81dd-89af-424e-baee-20b96f8cba4b",
   "metadata": {},
   "outputs": [],
   "source": [
    "clas_block = DataBlock()\n",
    "train_ds = clas_block.datasets(train_df)"
   ]
  },
  {
   "cell_type": "code",
   "execution_count": 11,
   "id": "8ceafe9c-ee9d-4049-ae32-e727a3391aa3",
   "metadata": {},
   "outputs": [],
   "source": [
    "def get_x(r): return r[\"Image_id\"]\n",
    "def get_y(r): return r[\"Label\"]"
   ]
  },
  {
   "cell_type": "code",
   "execution_count": 12,
   "id": "3e7ecc31-71bd-4cc2-8a63-661e457b0b89",
   "metadata": {},
   "outputs": [],
   "source": [
    "clas_block = DataBlock(blocks=(ImageBlock, CategoryBlock),\n",
    "                       splitter=RandomSplitter(seed=42),\n",
    "                       get_x=ColReader(0, pref=image_path),\n",
    "                       get_y=ColReader(\"Label\"),\n",
    "                       item_tfms=Resize(size),\n",
    "                       batch_tfms=aug_transforms())"
   ]
  },
  {
   "cell_type": "code",
   "execution_count": 13,
   "id": "4befbfa5-1b15-44bc-98d2-a97888cb402a",
   "metadata": {},
   "outputs": [],
   "source": [
    "dls = clas_block.dataloaders(train_df, bs=bs)"
   ]
  },
  {
   "cell_type": "code",
   "execution_count": 14,
   "id": "f06ec979-5105-4e2d-a991-c0179046fff4",
   "metadata": {},
   "outputs": [],
   "source": [
    "test_dl = dls.test_dl(test_df, bs=32)"
   ]
  },
  {
   "cell_type": "code",
   "execution_count": 15,
   "id": "22d7e642-13cc-4696-8d01-13285cd3124c",
   "metadata": {},
   "outputs": [
    {
     "data": {
      "text/plain": [
       "2290"
      ]
     },
     "execution_count": 15,
     "metadata": {},
     "output_type": "execute_result"
    }
   ],
   "source": [
    "test_dl.n"
   ]
  },
  {
   "cell_type": "code",
   "execution_count": 16,
   "id": "ad477973-6139-449c-8b4f-edd3375a405a",
   "metadata": {},
   "outputs": [
    {
     "data": {
      "text/plain": [
       "3"
      ]
     },
     "execution_count": 16,
     "metadata": {},
     "output_type": "execute_result"
    }
   ],
   "source": [
    "dls.c"
   ]
  },
  {
   "cell_type": "code",
   "execution_count": 17,
   "id": "504c69aa-e309-4124-a3ef-65a882d0a243",
   "metadata": {},
   "outputs": [
    {
     "data": {
      "text/plain": [
       "<fastai.data.core.DataLoaders at 0x7f761936faf0>"
      ]
     },
     "execution_count": 17,
     "metadata": {},
     "output_type": "execute_result"
    }
   ],
   "source": [
    "dls.cuda()"
   ]
  },
  {
   "cell_type": "code",
   "execution_count": 18,
   "id": "f4ed02c8-22f8-4afc-95e0-83f5db0b81d0",
   "metadata": {
    "tags": []
   },
   "outputs": [],
   "source": [
    "# train_dl.show_batch()"
   ]
  },
  {
   "cell_type": "code",
   "execution_count": 19,
   "id": "2c74c2d0-8af5-41d7-8f0c-8293e6b5a980",
   "metadata": {},
   "outputs": [],
   "source": [
    "# %pdb"
   ]
  },
  {
   "cell_type": "code",
   "execution_count": 20,
   "id": "baee9d5d-65df-4a5b-88d8-e66cc93bce36",
   "metadata": {},
   "outputs": [],
   "source": [
    "optdict = dict(sqr_mom=0.99,mom=0.95,beta=0.,eps=1e-4)\n",
    "opt_func = partial(ranger, **optdict)"
   ]
  },
  {
   "cell_type": "code",
   "execution_count": 21,
   "id": "da865fb1-7e54-4a08-a403-81b0a2337da4",
   "metadata": {},
   "outputs": [],
   "source": [
    "arch = \"xresnet34\""
   ]
  },
  {
   "cell_type": "code",
   "execution_count": 22,
   "id": "3f6c91fb-dcd7-48d0-a712-80639d99520e",
   "metadata": {},
   "outputs": [],
   "source": [
    "swav_encoder = \"models/run-mwalimu-128-swav-xresnet34-pretrain-rice-disease-epc447-sz128px-bs32_encoder.pth\""
   ]
  },
  {
   "cell_type": "code",
   "execution_count": 23,
   "id": "825c2b01-e268-4590-b61b-2fefccac2cb1",
   "metadata": {},
   "outputs": [
    {
     "name": "stderr",
     "output_type": "stream",
     "text": [
      "\u001b[34m\u001b[1mwandb\u001b[0m: W&B API key is configured. Use \u001b[1m`wandb login --relogin`\u001b[0m to force relogin\n"
     ]
    },
    {
     "data": {
      "text/html": [
       "Tracking run with wandb version 0.12.21"
      ],
      "text/plain": [
       "<IPython.core.display.HTML object>"
      ]
     },
     "metadata": {},
     "output_type": "display_data"
    },
    {
     "data": {
      "text/html": [
       "Run data is saved locally in <code>/home/mu/src/rice-disease-classification-africa/wandb/run-20220722_153146-3uhoab62</code>"
      ],
      "text/plain": [
       "<IPython.core.display.HTML object>"
      ]
     },
     "metadata": {},
     "output_type": "display_data"
    },
    {
     "data": {
      "text/html": [
       "Syncing run <strong><a href=\"https://wandb.ai/nlug/self-supervised-rice-disease-classification/runs/3uhoab62\" target=\"_blank\">dutiful-music-30</a></strong> to <a href=\"https://wandb.ai/nlug/self-supervised-rice-disease-classification\" target=\"_blank\">Weights & Biases</a> (<a href=\"https://wandb.me/run\" target=\"_blank\">docs</a>)<br/>"
      ],
      "text/plain": [
       "<IPython.core.display.HTML object>"
      ]
     },
     "metadata": {},
     "output_type": "display_data"
    }
   ],
   "source": [
    "if WANDB:\n",
    "    xtra_config = {\"Arch\": arch, \"Resize\": size, \"Algorithm\": \"Pretrained SWAV\", \"Epochs\": 100, \"Size\": size, \"Pretrained\": True, \"Batch Size\": bs}\n",
    "    wandb.init(project=\"self-supervised-rice-disease-classification\", config=xtra_config);"
   ]
  },
  {
   "cell_type": "code",
   "execution_count": 25,
   "id": "4385ebaf-b79c-4b18-8079-0fe7150190c8",
   "metadata": {},
   "outputs": [],
   "source": [
    "def split_func(m): return L(m[0], m[1]).map(params)\n",
    "\n",
    "def create_learner(dls, arch='xresnet34', encoder_path=\"models/swav-pretrain-rice-disease-epc37_encoder.pth\"):\n",
    "    pretrained_encoder = torch.load(encoder_path)\n",
    "    encoder = create_encoder(arch, pretrained=False, n_in=3)\n",
    "    encoder.load_state_dict(pretrained_encoder)\n",
    "    nf = encoder(torch.randn(2,3,224,224)).size(-1)\n",
    "    classifier = create_cls_module(nf, dls.c)\n",
    "    model = nn.Sequential(encoder, classifier)\n",
    "    learn = Learner(dls, model, opt_func=opt_func, splitter=split_func,\n",
    "                metrics=[accuracy], loss_func=LabelSmoothingCrossEntropy(),\n",
    "                    cbs=[SaveModelCallback(fname=\"classifier-best-{arch}-sz{size}\"),\n",
    "                         EarlyStoppingCallback(patience=10)])\n",
    "    return learn"
   ]
  },
  {
   "cell_type": "code",
   "execution_count": 26,
   "id": "59f05b7d-3f6b-4c3e-b7d1-3f452260d2e2",
   "metadata": {},
   "outputs": [],
   "source": [
    "learn = create_learner(dls, encoder_path=swav_encoder)"
   ]
  },
  {
   "cell_type": "code",
   "execution_count": 27,
   "id": "330c9cb3-b63d-4d80-a5ca-d83e3e9d789d",
   "metadata": {},
   "outputs": [
    {
     "data": {
      "text/html": [
       "\n",
       "<style>\n",
       "    /* Turns off some styling */\n",
       "    progress {\n",
       "        /* gets rid of default border in Firefox and Opera. */\n",
       "        border: none;\n",
       "        /* Needs to be in here for Safari polyfill so background images work as expected. */\n",
       "        background-size: auto;\n",
       "    }\n",
       "    .progress-bar-interrupted, .progress-bar-interrupted::-webkit-progress-bar {\n",
       "        background: #F44336;\n",
       "    }\n",
       "</style>\n"
      ],
      "text/plain": [
       "<IPython.core.display.HTML object>"
      ]
     },
     "metadata": {},
     "output_type": "display_data"
    },
    {
     "data": {
      "text/html": [],
      "text/plain": [
       "<IPython.core.display.HTML object>"
      ]
     },
     "metadata": {},
     "output_type": "display_data"
    },
    {
     "data": {
      "text/plain": [
       "SuggestedLRs(valley=0.00363078061491251)"
      ]
     },
     "execution_count": 27,
     "metadata": {},
     "output_type": "execute_result"
    },
    {
     "data": {
      "image/png": "[encoded data removed]",
      "text/plain": [
       "<Figure size 432x288 with 1 Axes>"
      ]
     },
     "metadata": {
      "needs_background": "light"
     },
     "output_type": "display_data"
    }
   ],
   "source": [
    "learn.lr_find()"
   ]
  },
  {
   "cell_type": "code",
   "execution_count": 28,
   "id": "114fb7ab-abed-4864-b783-a4a2dcaee06e",
   "metadata": {},
   "outputs": [],
   "source": [
    "learn.unfreeze()"
   ]
  },
  {
   "cell_type": "code",
   "execution_count": 29,
   "id": "98cfde61-9b5b-4718-984f-5ea6e8218bb0",
   "metadata": {},
   "outputs": [
    {
     "data": {
      "text/html": [
       "\n",
       "<style>\n",
       "    /* Turns off some styling */\n",
       "    progress {\n",
       "        /* gets rid of default border in Firefox and Opera. */\n",
       "        border: none;\n",
       "        /* Needs to be in here for Safari polyfill so background images work as expected. */\n",
       "        background-size: auto;\n",
       "    }\n",
       "    .progress-bar-interrupted, .progress-bar-interrupted::-webkit-progress-bar {\n",
       "        background: #F44336;\n",
       "    }\n",
       "</style>\n"
      ],
      "text/plain": [
       "<IPython.core.display.HTML object>"
      ]
     },
     "metadata": {},
     "output_type": "display_data"
    },
    {
     "data": {
      "text/html": [
       "<table border=\"1\" class=\"dataframe\">\n",
       "  <thead>\n",
       "    <tr style=\"text-align: left;\">\n",
       "      <th>epoch</th>\n",
       "      <th>train_loss</th>\n",
       "      <th>valid_loss</th>\n",
       "      <th>accuracy</th>\n",
       "      <th>time</th>\n",
       "    </tr>\n",
       "  </thead>\n",
       "  <tbody>\n",
       "    <tr>\n",
       "      <td>0</td>\n",
       "      <td>1.092954</td>\n",
       "      <td>0.943749</td>\n",
       "      <td>0.596442</td>\n",
       "      <td>00:36</td>\n",
       "    </tr>\n",
       "    <tr>\n",
       "      <td>1</td>\n",
       "      <td>0.955906</td>\n",
       "      <td>0.857881</td>\n",
       "      <td>0.686330</td>\n",
       "      <td>00:37</td>\n",
       "    </tr>\n",
       "    <tr>\n",
       "      <td>2</td>\n",
       "      <td>0.898021</td>\n",
       "      <td>0.851287</td>\n",
       "      <td>0.693820</td>\n",
       "      <td>00:36</td>\n",
       "    </tr>\n",
       "    <tr>\n",
       "      <td>3</td>\n",
       "      <td>0.850454</td>\n",
       "      <td>0.781105</td>\n",
       "      <td>0.713483</td>\n",
       "      <td>00:35</td>\n",
       "    </tr>\n",
       "    <tr>\n",
       "      <td>4</td>\n",
       "      <td>0.815781</td>\n",
       "      <td>0.757779</td>\n",
       "      <td>0.751873</td>\n",
       "      <td>00:36</td>\n",
       "    </tr>\n",
       "    <tr>\n",
       "      <td>5</td>\n",
       "      <td>0.792286</td>\n",
       "      <td>0.719789</td>\n",
       "      <td>0.753745</td>\n",
       "      <td>00:36</td>\n",
       "    </tr>\n",
       "    <tr>\n",
       "      <td>6</td>\n",
       "      <td>0.755525</td>\n",
       "      <td>0.702249</td>\n",
       "      <td>0.750936</td>\n",
       "      <td>00:36</td>\n",
       "    </tr>\n",
       "    <tr>\n",
       "      <td>7</td>\n",
       "      <td>0.751816</td>\n",
       "      <td>0.711067</td>\n",
       "      <td>0.753745</td>\n",
       "      <td>00:36</td>\n",
       "    </tr>\n",
       "    <tr>\n",
       "      <td>8</td>\n",
       "      <td>0.753194</td>\n",
       "      <td>0.839549</td>\n",
       "      <td>0.702247</td>\n",
       "      <td>00:36</td>\n",
       "    </tr>\n",
       "    <tr>\n",
       "      <td>9</td>\n",
       "      <td>0.757462</td>\n",
       "      <td>0.804237</td>\n",
       "      <td>0.737828</td>\n",
       "      <td>00:36</td>\n",
       "    </tr>\n",
       "    <tr>\n",
       "      <td>10</td>\n",
       "      <td>0.788707</td>\n",
       "      <td>1.259879</td>\n",
       "      <td>0.603933</td>\n",
       "      <td>00:36</td>\n",
       "    </tr>\n",
       "    <tr>\n",
       "      <td>11</td>\n",
       "      <td>0.799487</td>\n",
       "      <td>0.741278</td>\n",
       "      <td>0.743446</td>\n",
       "      <td>00:36</td>\n",
       "    </tr>\n",
       "    <tr>\n",
       "      <td>12</td>\n",
       "      <td>0.798708</td>\n",
       "      <td>0.851346</td>\n",
       "      <td>0.727528</td>\n",
       "      <td>00:36</td>\n",
       "    </tr>\n",
       "    <tr>\n",
       "      <td>13</td>\n",
       "      <td>0.824898</td>\n",
       "      <td>0.874897</td>\n",
       "      <td>0.661985</td>\n",
       "      <td>00:36</td>\n",
       "    </tr>\n",
       "    <tr>\n",
       "      <td>14</td>\n",
       "      <td>0.827714</td>\n",
       "      <td>0.823394</td>\n",
       "      <td>0.707865</td>\n",
       "      <td>00:37</td>\n",
       "    </tr>\n",
       "    <tr>\n",
       "      <td>15</td>\n",
       "      <td>0.893382</td>\n",
       "      <td>2.454275</td>\n",
       "      <td>0.590824</td>\n",
       "      <td>00:35</td>\n",
       "    </tr>\n",
       "    <tr>\n",
       "      <td>16</td>\n",
       "      <td>0.879818</td>\n",
       "      <td>1.010198</td>\n",
       "      <td>0.589888</td>\n",
       "      <td>00:36</td>\n",
       "    </tr>\n",
       "  </tbody>\n",
       "</table>"
      ],
      "text/plain": [
       "<IPython.core.display.HTML object>"
      ]
     },
     "metadata": {},
     "output_type": "display_data"
    },
    {
     "name": "stdout",
     "output_type": "stream",
     "text": [
      "Better model found at epoch 0 with valid_loss value: 0.9437486529350281.\n",
      "Better model found at epoch 1 with valid_loss value: 0.8578810691833496.\n",
      "Better model found at epoch 2 with valid_loss value: 0.8512871265411377.\n",
      "Better model found at epoch 3 with valid_loss value: 0.7811051607131958.\n",
      "Better model found at epoch 4 with valid_loss value: 0.7577792406082153.\n",
      "Better model found at epoch 5 with valid_loss value: 0.7197889089584351.\n",
      "Better model found at epoch 6 with valid_loss value: 0.7022491693496704.\n",
      "No improvement since epoch 6: early stopping\n"
     ]
    }
   ],
   "source": [
    "learn.fit_one_cycle(100, 1e-2, wd=1e-3, moms=(0.95, 0.85, 0.95))"
   ]
  },
  {
   "cell_type": "code",
   "execution_count": 31,
   "id": "fd9b2df4-30d6-482a-9837-3d7ec5b9ac2b",
   "metadata": {},
   "outputs": [
    {
     "data": {
      "text/plain": [
       "Path('models/classifier-dutiful-music-30-xresnet34-swav-pretrain-rice-disease-epc6-sz128px-bs32.pth')"
      ]
     },
     "execution_count": 31,
     "metadata": {},
     "output_type": "execute_result"
    },
    {
     "name": "stderr",
     "output_type": "stream",
     "text": [
      "wandb: Network error (ReadTimeout), entering retry loop.\n",
      "wandb: Network error (ReadTimeout), entering retry loop.\n",
      "wandb: Network error (ConnectionError), entering retry loop.\n",
      "wandb: Network error (ReadTimeout), entering retry loop.\n",
      "wandb: Network error (ConnectionError), entering retry loop.\n",
      "wandb: Network error (ConnectionError), entering retry loop.\n"
     ]
    }
   ],
   "source": [
    "run_name = wandb.run.name\n",
    "family = \"swav-pretrain\"\n",
    "save_name = f'classifier-{run_name}-{arch}-{family}-rice-disease-epc{6}-sz{size}px-bs{bs}'\n",
    "learn.save(save_name)"
   ]
  },
  {
   "cell_type": "code",
   "execution_count": null,
   "id": "f307d90f-b988-4e02-8f0a-79853f744429",
   "metadata": {},
   "outputs": [],
   "source": [
    "def finetune(size, epochs, arch, encoder_path, lr=1e-2, wd=1e-2):\n",
    "    learn = create_learner(size, arch, swav_encoder)\n",
    "    learn.unfreeze()\n",
    "    learn.fit_flat_cos(epochs, lr, wd=wd)\n",
    "    final_acc = learn.recorder.values[-1][-2]\n",
    "    return final_acc"
   ]
  }
 ],
 "metadata": {
  "kernelspec": {
   "display_name": "Python 3 (ipykernel)",
   "language": "python",
   "name": "python3"
  },
  "language_info": {
   "codemirror_mode": {
    "name": "ipython",
    "version": 3
   },
   "file_extension": ".py",
   "mimetype": "text/x-python",
   "name": "python",
   "nbconvert_exporter": "python",
   "pygments_lexer": "ipython3",
   "version": "3.9.12"
  }
 },
 "nbformat": 4,
 "nbformat_minor": 5
}
