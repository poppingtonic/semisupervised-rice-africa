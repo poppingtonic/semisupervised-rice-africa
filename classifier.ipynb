{
 "cells": [
  {
   "cell_type": "code",
   "execution_count": 1,
   "id": "c767e163-9c17-46fd-bc0a-3fc6b7376d1a",
   "metadata": {},
   "outputs": [],
   "source": [
    "%reload_ext autoreload\n",
    "%autoreload 2\n",
    "%matplotlib inline"
   ]
  },
  {
   "cell_type": "code",
   "execution_count": 2,
   "id": "e08d4240-78bd-4a5c-b3ed-2dca0122786e",
   "metadata": {},
   "outputs": [],
   "source": [
    "from fastai.vision.all import *"
   ]
  },
  {
   "cell_type": "code",
   "execution_count": 7,
   "id": "08aebf5b-07c1-4d7a-832a-7a4e6d828364",
   "metadata": {},
   "outputs": [],
   "source": [
    "path = Path(\"/home/mu/.fastai/data/rice-disease-classification/\")\n",
    "image_path = path/\"images\"\n",
    "files = get_image_files(image_path)"
   ]
  },
  {
   "cell_type": "code",
   "execution_count": 8,
   "id": "8644f4ed-ee58-409b-9787-c049aa62ecaa",
   "metadata": {},
   "outputs": [],
   "source": [
    "train_df = pd.read_csv(path/\"Train.csv\")\n",
    "test_df = pd.read_csv(path/\"Test.csv\")"
   ]
  },
  {
   "cell_type": "code",
   "execution_count": 5,
   "id": "3a886102-6fbb-4dc2-a84e-fbd9946fe7ac",
   "metadata": {},
   "outputs": [],
   "source": [
    "size=224\n",
    "bs=32"
   ]
  },
  {
   "cell_type": "code",
   "execution_count": null,
   "id": "462d9be3-8bc1-44f5-9b3f-1835920196be",
   "metadata": {},
   "outputs": [],
   "source": [
    "def get_dls(path, size, bs, workers=None):\n",
    "    files = get_image_files(path, folders=['images'])\n",
    "    train_dls = ImageDataLoaders.from_df(train_df, path=image_path)\n",
    "    test_dls = ImageDataLoaders.from_df(test_df, path=image_path)\n",
    "    splits = GrandparentSplitter(valid_name='val')(files)\n",
    "    \n",
    "    item_aug = [RandomResizedCrop(size, min_scale=0.35), FlipItem(0.5)]\n",
    "    tfms = [[PILImage.create, ToTensor, *item_aug], \n",
    "            [parent_label, Categorize()]]\n",
    "    \n",
    "    dsets = Datasets(files, tfms=tfms, splits=splits)\n",
    "    \n",
    "    batch_tfms = [IntToFloatTensor, Normalize.from_stats(*imagenet_stats)]\n",
    "    dls = dsets.dataloaders(bs=bs, num_workers=workers, after_batch=batch_tfms)\n",
    "    return dls"
   ]
  },
  {
   "cell_type": "code",
   "execution_count": 6,
   "id": "baee9d5d-65df-4a5b-88d8-e66cc93bce36",
   "metadata": {},
   "outputs": [],
   "source": [
    "optdict = dict(sqr_mom=0.99,mom=0.95,beta=0.,eps=1e-4)\n",
    "opt_func = partial(ranger, **optdict)"
   ]
  },
  {
   "cell_type": "code",
   "execution_count": null,
   "id": "4385ebaf-b79c-4b18-8079-0fe7150190c8",
   "metadata": {},
   "outputs": [],
   "source": [
    "def split_func(m): return L(m[0], m[1]).map(params)\n",
    "\n",
    "def create_learner(size=size, arch='xresnet34', encoder_path=\"models/swav-pretrain-rice-disease-epc37_encoder.pth\"):\n",
    "    \n",
    "    dls = get_dls(size, bs=bs//2)\n",
    "    pretrained_encoder = torch.load(encoder_path)\n",
    "    encoder = create_encoder(arch, pretrained=False, n_in=3)\n",
    "    encoder.load_state_dict(pretrained_encoder)\n",
    "    nf = encoder(torch.randn(2,3,224,224)).size(-1)\n",
    "    classifier = create_cls_module(nf, dls.c)\n",
    "    model = nn.Sequential(encoder, classifier)\n",
    "    learn = Learner(dls, model, opt_func=opt_func, splitter=split_func,\n",
    "                metrics=[accuracy,top_k_accuracy], loss_func=LabelSmoothingCrossEntropy())\n",
    "    return learn"
   ]
  },
  {
   "cell_type": "code",
   "execution_count": null,
   "id": "f307d90f-b988-4e02-8f0a-79853f744429",
   "metadata": {},
   "outputs": [],
   "source": [
    "def finetune(size, epochs, arch, encoder_path, lr=1e-2, wd=1e-2):\n",
    "    learn = create_learner(size, arch, encoder_path)\n",
    "    learn.unfreeze()\n",
    "    learn.fit_flat_cos(epochs, lr, wd=wd)\n",
    "    final_acc = learn.recorder.values[-1][-2]\n",
    "    return final_acc"
   ]
  }
 ],
 "metadata": {
  "kernelspec": {
   "display_name": "Python 3 (ipykernel)",
   "language": "python",
   "name": "python3"
  },
  "language_info": {
   "codemirror_mode": {
    "name": "ipython",
    "version": 3
   },
   "file_extension": ".py",
   "mimetype": "text/x-python",
   "name": "python",
   "nbconvert_exporter": "python",
   "pygments_lexer": "ipython3",
   "version": "3.9.12"
  }
 },
 "nbformat": 4,
 "nbformat_minor": 5
}
